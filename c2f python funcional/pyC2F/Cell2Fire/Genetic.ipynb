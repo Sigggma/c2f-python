{
 "cells": [
  {
   "cell_type": "code",
   "execution_count": 41,
   "metadata": {
    "collapsed": true
   },
   "outputs": [],
   "source": [
    "import numpy as np\n",
    "import numpy.random as npr\n",
    "import pandas as pd"
   ]
  },
  {
   "cell_type": "code",
   "execution_count": 12,
   "metadata": {},
   "outputs": [
    {
     "name": "stdout",
     "output_type": "stream",
     "text": [
      "[[1 0 0]\n",
      " [0 0 0]\n",
      " [0 0 2]] \n",
      " 2\n"
     ]
    }
   ],
   "source": [
    "# Importantions (temporarily here during tests)\n",
    "from scipy.ndimage.measurements import label\n",
    "from scipy.spatial.distance import cdist\n",
    "from scipy import ndimage\n",
    "\n",
    "array = np.zeros([3 * 3], dtype=np.int)\n",
    "array[[0]] = 1\n",
    "array[[8]] = 1\n",
    "array = np.reshape(array, (3, 3))\n",
    "structure = np.ones((3, 3), dtype=np.int)\n",
    "labeled, ncomponents = label(array, structure)\n",
    "print(labeled, \"\\n\",ncomponents)"
   ]
  },
  {
   "cell_type": "code",
   "execution_count": 35,
   "metadata": {
    "code_folding": [
     1
    ],
    "collapsed": true
   },
   "outputs": [],
   "source": [
    "class ToyForest(object):\n",
    "    def __init__(self, rows, cols, vol, demand):\n",
    "        # Dimensions\n",
    "        self._Rows = rows\n",
    "        self._Cols = cols\n",
    "        self._NCells = rows * cols\n",
    "        \n",
    "        # Time\n",
    "        self._Year = 1\n",
    "        \n",
    "        # Boolean flags\n",
    "        self._demandC = True\n",
    "        self._evenFlowC = True\n",
    "        self._adjC = True\n",
    "        self._finalC = True\n",
    "            \n",
    "        # Volume\n",
    "        self._VolCells = np.full(self._NCells, vol)\n",
    "        \n",
    "        # FPV \n",
    "        self._FPVMatrix = np.random.randint(100, size=self._NCells)\n",
    "        \n",
    "        # Demand\n",
    "        self._PeriodDemand = demand\n",
    "        \n",
    "    @property\n",
    "    def getYear(self):\n",
    "        return self._Year\n",
    "    \n",
    "    @property \n",
    "    def getDemand(self):\n",
    "        return self._PeriodDemand\n",
    "        \n",
    "    @property\n",
    "    def getVol(self):\n",
    "        return self._VolCells\n",
    "    \n",
    "    @property \n",
    "    def getFPVMatrix(self):\n",
    "        return self._FPVMatrix\n",
    "        \n",
    "    @property\n",
    "    def shape(self):\n",
    "        return (self._Rows, self._Cols)"
   ]
  },
  {
   "cell_type": "code",
   "execution_count": 39,
   "metadata": {},
   "outputs": [
    {
     "name": "stdout",
     "output_type": "stream",
     "text": [
      "FPV Matrix:\n",
      " [[47 76 49]\n",
      " [79 53  3]\n",
      " [81 90 87]]\n",
      "Vol Matrix:\n",
      " [[1 1 1]\n",
      " [1 1 1]\n",
      " [1 1 1]]\n",
      "Demand:\n",
      " [2, 2, 2]\n"
     ]
    }
   ],
   "source": [
    "# Forest object\n",
    "demand = [2,2,2]\n",
    "Forest = ToyForest(3,3,1,demand)\n",
    "\n",
    "# FPV Matrix \n",
    "print(\"FPV Matrix:\\n\", np.reshape(Forest.getFPVMatrix, (Forest.shape)))\n",
    "      \n",
    "# Volume Matrix\n",
    "print(\"Vol Matrix:\\n\", np.reshape(Forest.getVol, (Forest.shape)))\n",
    "      \n",
    "# Demand\n",
    "print(\"Demand:\\n\", Forest.getDemand)\n",
    "      "
   ]
  },
  {
   "cell_type": "code",
   "execution_count": 40,
   "metadata": {
    "collapsed": true
   },
   "outputs": [],
   "source": [
    "# Genetic code\n",
    "\"\"\"\n",
    "Binary genetic code (1 = harvested, 0 = non harvested)\n",
    "\"\"\"\n",
    "def geneCode:\n",
    "    genes = [0,1]\n",
    "    return genes\n",
    "\n",
    "\n",
    "# Individual (Genetic algorithm)\n",
    "\"\"\"\n",
    "Array/Matrix of ones and zeros representing if a cell is harvested or not\n",
    "\"\"\"\n",
    "def initIndividual(ncells)\n",
    "    individual = npr.randint(2, ncells)\n",
    "    return individual\n",
    "\n",
    "\n",
    "# Mutation \n",
    "\"\"\"\n",
    "Swap 1 and 0, replace 0 by 1, replace 1 by 0 with different chances.\n",
    "\"\"\"\n",
    "def mutate(individual, alpha=0.15, beta=0.15, gamma=0.15):\n",
    "    rn = npr.rand(3)\n",
    "    \n",
    "    if rn[0] <= alpha: \n",
    "        individual = \n",
    "    if rn[1] <= beta: \n",
    "        individual =\n",
    "    if rn[2] <= gamma: \n",
    "        individual = "
   ]
  },
  {
   "cell_type": "code",
   "execution_count": null,
   "metadata": {},
   "outputs": [],
   "source": []
  },
  {
   "cell_type": "code",
   "execution_count": null,
   "metadata": {
    "collapsed": true
   },
   "outputs": [],
   "source": []
  },
  {
   "cell_type": "code",
   "execution_count": null,
   "metadata": {
    "collapsed": true
   },
   "outputs": [],
   "source": []
  },
  {
   "cell_type": "code",
   "execution_count": 2,
   "metadata": {
    "code_folding": [
     1
    ],
    "collapsed": true
   },
   "outputs": [],
   "source": [
    "# Adjacency fn V1\n",
    "def AdjacencyFnV1(self, actionArray):\n",
    "    # Initialize penalty = 0 (total distance from largest patch)\n",
    "    adjDistance = 0\n",
    "    #print(\"------Debugging Adjacency FnV1-----\")\n",
    "\n",
    "    # Importantions (temporarily here during tests)\n",
    "    from scipy.ndimage.measurements import label\n",
    "    from scipy.spatial.distance import cdist\n",
    "    from scipy import ndimage\n",
    "\n",
    "    # Distance between features function (connected components inside the array)\n",
    "    def feature_dist(input):\n",
    "        \"\"\"\n",
    "        Takes a labeled array as returned by scipy.ndimage.label and \n",
    "        returns an intra-feature distance matrix.\n",
    "        \"\"\"\n",
    "        I, J = np.nonzero(input)\n",
    "        labels = input[I,J]\n",
    "        coords = np.column_stack((I,J))\n",
    "\n",
    "        sorter = np.argsort(labels)\n",
    "        labels = labels[sorter]\n",
    "        coords = coords[sorter]\n",
    "\n",
    "        sq_dists = cdist(coords, coords, 'chebyshev')#'cityblock')#'sqeuclidean')\n",
    "\n",
    "        start_idx = np.flatnonzero(np.r_[1, np.diff(labels)])\n",
    "        nonzero_vs_feat = np.minimum.reduceat(sq_dists, start_idx, axis=1)\n",
    "        feat_vs_feat = np.minimum.reduceat(nonzero_vs_feat, start_idx, axis=0)\n",
    "\n",
    "        return np.sqrt(feat_vs_feat)\n",
    "\n",
    "    # Idea: Calculate the number of components, find the largest one, compute the distance (chebyshev)\n",
    "    #       from each component to it, to penalyze the reward function\n",
    "    array = np.zeros([self._Rows * self._Cols], dtype=np.int)\n",
    "    array[[actionArray]] = 1\n",
    "    array = np.reshape(array, (self._Rows, self._Cols))\n",
    "    structure = np.ones((3, 3), dtype=np.int)\n",
    "    labeled, ncomponents = label(array, structure)\n",
    "    #print(\"Testing Adjacency function V1:\\n\", labeled)\n",
    "    #print(\"N components:\", ncomponents)\n",
    "\n",
    "\n",
    "    # If more than 1 component, make calculations for penalty \n",
    "    # (CP: Can modify the penalty to account the volume of the non-connected patches, weighted by distance\n",
    "    #      from the largest connected component)\n",
    "    if ncomponents > 1:\n",
    "\n",
    "        # Calculate the size of each component\n",
    "        sizeComponents = ndimage.sum(array, labeled, index=[i for i in range(1, ncomponents+1)])\n",
    "        #print(\"Size components:\", sizeComponents)\n",
    "        largestComp = np.argmax(sizeComponents)\n",
    "        #print(\"Largest component:\", largestComp + 1)\n",
    "\n",
    "        # Compute the total distance from maximum patch to the rest of the components\n",
    "        adjDistance = np.sum(feature_dist(labeled)[largestComp,])\n",
    "        #print(\"Adj Distance:\", adjDistance)\n",
    "\n",
    "\n",
    "    return adjDistance"
   ]
  },
  {
   "cell_type": "code",
   "execution_count": 3,
   "metadata": {
    "code_folding": [],
    "collapsed": true
   },
   "outputs": [],
   "source": [
    "# Reward function\n",
    "def RewardFN_Tactical(self, state, action, new_burnt, done=False):\n",
    "    actionArray = [i-1 for i in action]\n",
    "\n",
    "    # Economic value of a cell (need to add a harvesting cost to measure the utility, just volume for the moment)\n",
    "    econF = 0\n",
    "    if np.max(actionArray) > -1:    # if -1 then no cell is harvested\n",
    "        econF = np.sum(self._VolCells[actionArray])\n",
    "\n",
    "    # BurntCells by the end of the period penalty\n",
    "    burntF = 0\n",
    "    if len(new_burnt) > 0:\n",
    "        burntF = np.sum(self._VolCells[[i-1 for i in new_burnt]])\n",
    "\n",
    "    # Demand constraint: Penalize non-satisfied demand (CP: and excess, for the moment)\n",
    "    demandF = 0\n",
    "    if self._demandC:\n",
    "        if np.sum(self._VolCells[actionArray]) != self._PeriodDemand[self._Year - 2]:\n",
    "            demandF = np.abs(self._PeriodDemand[self._Year - 2] - np.sum(self._VolCells[actionArray]))\n",
    "\n",
    "\n",
    "    # Even Flow constraint: if t>0, check previous production level within an alpha %\n",
    "    # Penalize by the deviation\n",
    "    evenflowF = 0\n",
    "    if self._evenFlowC and self._Year > 2:\n",
    "        if self._verbose:\n",
    "            print(\"Year:\", self._Year)\n",
    "            print(\"self previous action:\", self._previous_action)\n",
    "        prev_actionArray = [i-1 for i in self._previous_action]\n",
    "\n",
    "        # UB\n",
    "        if np.sum(self._VolCells[actionArray]) > np.sum(self._VolCells[prev_actionArray]) * (1 + self._alpha):\n",
    "            evenflowF += np.sum(self._VolCells[actionArray]) - \\\n",
    "                         np.sum(self._VolCells[prev_actionArray]) * (1 + self._alpha)\n",
    "\n",
    "        # LB\n",
    "        elif np.sum(self._VolCells[actionArray]) < np.sum(self._VolCells[prev_actionArray]) * (1 - self._alpha):\n",
    "            evenflowF += np.sum(self._VolCells[prev_actionArray]) * (1 - self._alpha) - \\\n",
    "                         np.sum(self._VolCells[actionArray])\n",
    "\n",
    "    # Adjacency (CP: check function, penalizing by distance between patches for the moment)\n",
    "    adjF = 0\n",
    "    if self._adjC:\n",
    "        adjF = self.AdjacencyFnV1(actionArray)\n",
    "\n",
    "    # Done factor: Total available at the end of the episode bonus\n",
    "    doneF = 0\n",
    "    if done and self._finalC:\n",
    "        doneF = np.sum(self._VolCells[[i-1 for i in self._AvailCells_Set]])\n",
    "\n",
    "\n",
    "    # Total Reward of the period \n",
    "    # (volume harvested - burned - non-satisfied demand - flow deviation - adj violation + final bonus)\n",
    "    reward = econF - burntF - demandF - evenflowF - adjF + doneF\n",
    "\n",
    "    if self._nooutput == False:\n",
    "        print(\"Reward components:\", econF, burntF, demandF, evenflowF, adjF, doneF)\n",
    "\n",
    "    # Next simulation (if we passed the horizon or the episode is done)\n",
    "    #if self._Year > self._TotalYears or self._done = True:\n",
    "    #    self._Sim += 1\n",
    "\n",
    "    return reward"
   ]
  }
 ],
 "metadata": {
  "kernelspec": {
   "display_name": "Python 3",
   "language": "python",
   "name": "python3"
  },
  "language_info": {
   "codemirror_mode": {
    "name": "ipython",
    "version": 3
   },
   "file_extension": ".py",
   "mimetype": "text/x-python",
   "name": "python",
   "nbconvert_exporter": "python",
   "pygments_lexer": "ipython3",
   "version": "3.6.2"
  }
 },
 "nbformat": 4,
 "nbformat_minor": 2
}
