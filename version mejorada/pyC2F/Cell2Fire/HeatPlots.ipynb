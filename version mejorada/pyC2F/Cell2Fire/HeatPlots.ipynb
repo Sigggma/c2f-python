{
 "cells": [
  {
   "cell_type": "code",
   "execution_count": 6,
   "metadata": {
    "collapsed": true
   },
   "outputs": [],
   "source": [
    "import numpy as np\n",
    "import seaborn as sns\n",
    "from matplotlib.colors import ListedColormap\n",
    "%matplotlib inline"
   ]
  },
  {
   "cell_type": "code",
   "execution_count": null,
   "metadata": {},
   "outputs": [],
   "source": [
    "a = np.random.randn(10)\n",
    "all_zeros = not a.any()\n",
    "print(a, all_zeros)"
   ]
  },
  {
   "cell_type": "code",
   "execution_count": null,
   "metadata": {},
   "outputs": [],
   "source": [
    "a = np.zeros(10)\n",
    "all_zeros = not a.any()\n",
    "print(a, all_zeros)"
   ]
  },
  {
   "cell_type": "code",
   "execution_count": null,
   "metadata": {},
   "outputs": [],
   "source": [
    "np.full(10, 2)"
   ]
  },
  {
   "cell_type": "code",
   "execution_count": null,
   "metadata": {},
   "outputs": [],
   "source": [
    "m = np.zeros((2,2))\n",
    "m"
   ]
  },
  {
   "cell_type": "code",
   "execution_count": null,
   "metadata": {},
   "outputs": [],
   "source": [
    "m.any()"
   ]
  },
  {
   "cell_type": "code",
   "execution_count": null,
   "metadata": {},
   "outputs": [],
   "source": [
    "m = np.matrix([[2,0], [0,0]])\n",
    "m"
   ]
  },
  {
   "cell_type": "code",
   "execution_count": null,
   "metadata": {},
   "outputs": [],
   "source": [
    "m.any()"
   ]
  },
  {
   "cell_type": "code",
   "execution_count": 42,
   "metadata": {},
   "outputs": [
    {
     "data": {
      "text/html": [
       "<div>\n",
       "<style scoped>\n",
       "    .dataframe tbody tr th:only-of-type {\n",
       "        vertical-align: middle;\n",
       "    }\n",
       "\n",
       "    .dataframe tbody tr th {\n",
       "        vertical-align: top;\n",
       "    }\n",
       "\n",
       "    .dataframe thead th {\n",
       "        text-align: right;\n",
       "    }\n",
       "</style>\n",
       "<table border=\"1\" class=\"dataframe\">\n",
       "  <thead>\n",
       "    <tr style=\"text-align: right;\">\n",
       "      <th></th>\n",
       "      <th>grid_value</th>\n",
       "      <th>export_value</th>\n",
       "      <th>descriptive_name</th>\n",
       "      <th>fuel_type</th>\n",
       "      <th>r</th>\n",
       "      <th>g</th>\n",
       "      <th>b</th>\n",
       "      <th>h</th>\n",
       "      <th>s</th>\n",
       "      <th>l</th>\n",
       "    </tr>\n",
       "  </thead>\n",
       "  <tbody>\n",
       "    <tr>\n",
       "      <th>0</th>\n",
       "      <td>1</td>\n",
       "      <td>1</td>\n",
       "      <td>Spruce-Lichen Woodland</td>\n",
       "      <td>C-1</td>\n",
       "      <td>209</td>\n",
       "      <td>255</td>\n",
       "      <td>115</td>\n",
       "      <td>57</td>\n",
       "      <td>255</td>\n",
       "      <td>185</td>\n",
       "    </tr>\n",
       "    <tr>\n",
       "      <th>1</th>\n",
       "      <td>2</td>\n",
       "      <td>2</td>\n",
       "      <td>Boreal Spruce</td>\n",
       "      <td>C-2</td>\n",
       "      <td>34</td>\n",
       "      <td>102</td>\n",
       "      <td>51</td>\n",
       "      <td>95</td>\n",
       "      <td>128</td>\n",
       "      <td>68</td>\n",
       "    </tr>\n",
       "    <tr>\n",
       "      <th>2</th>\n",
       "      <td>3</td>\n",
       "      <td>3</td>\n",
       "      <td>Mature Jack or Lodgepole Pine</td>\n",
       "      <td>C-3</td>\n",
       "      <td>131</td>\n",
       "      <td>199</td>\n",
       "      <td>149</td>\n",
       "      <td>96</td>\n",
       "      <td>96</td>\n",
       "      <td>165</td>\n",
       "    </tr>\n",
       "    <tr>\n",
       "      <th>3</th>\n",
       "      <td>4</td>\n",
       "      <td>4</td>\n",
       "      <td>Immature Jack or Lodgepole Pine</td>\n",
       "      <td>C-4</td>\n",
       "      <td>112</td>\n",
       "      <td>168</td>\n",
       "      <td>0</td>\n",
       "      <td>57</td>\n",
       "      <td>255</td>\n",
       "      <td>84</td>\n",
       "    </tr>\n",
       "    <tr>\n",
       "      <th>4</th>\n",
       "      <td>5</td>\n",
       "      <td>5</td>\n",
       "      <td>Red and White Pine</td>\n",
       "      <td>C-5</td>\n",
       "      <td>223</td>\n",
       "      <td>184</td>\n",
       "      <td>230</td>\n",
       "      <td>206</td>\n",
       "      <td>122</td>\n",
       "      <td>207</td>\n",
       "    </tr>\n",
       "  </tbody>\n",
       "</table>\n",
       "</div>"
      ],
      "text/plain": [
       "   grid_value   export_value                 descriptive_name  fuel_type    r  \\\n",
       "0           1              1           Spruce-Lichen Woodland        C-1  209   \n",
       "1           2              2                    Boreal Spruce        C-2   34   \n",
       "2           3              3    Mature Jack or Lodgepole Pine        C-3  131   \n",
       "3           4              4  Immature Jack or Lodgepole Pine        C-4  112   \n",
       "4           5              5               Red and White Pine        C-5  223   \n",
       "\n",
       "     g    b    h    s    l  \n",
       "0  255  115   57  255  185  \n",
       "1  102   51   95  128   68  \n",
       "2  199  149   96   96  165  \n",
       "3  168    0   57  255   84  \n",
       "4  184  230  206  122  207  "
      ]
     },
     "execution_count": 42,
     "metadata": {},
     "output_type": "execute_result"
    }
   ],
   "source": [
    "import pandas as pd\n",
    "fname = r'C:/Users/Lenovo/Documents/GitHub/MADRL_Fire/instances/heterogeneous/Sub20x20/fbp_lookup_table.csv'\n",
    "DFColors = pd.read_csv(fname)\n",
    "DFColors.head()"
   ]
  },
  {
   "cell_type": "code",
   "execution_count": 43,
   "metadata": {},
   "outputs": [
    {
     "data": {
      "text/plain": [
       "array([  1,   2,   3,   4,   5,   6,   7,  11,  12,  13,  21,  22,  23,\n",
       "        31,  32,  40,  50,  60,  70,  80,  90, 100, 101, 102, 103, 104,\n",
       "       105, 405, 410, 415, 420, 425, 430, 435, 440, 445, 450, 455, 460,\n",
       "       465, 470, 475, 480, 485, 490, 495, 505, 510, 515, 520, 525, 530,\n",
       "       535, 540, 545, 550, 555, 560, 565, 570, 575, 580, 585, 590, 595,\n",
       "       605, 610, 615, 620, 625, 630, 635, 640, 645, 650, 655, 660, 665,\n",
       "       670, 675, 680, 685, 690, 695, 705, 710, 715, 720, 725, 730, 735,\n",
       "       740, 745, 750, 755, 760, 765, 770, 775, 780, 785, 790, 795, 805,\n",
       "       810, 815, 820, 825, 830, 835, 840, 845, 850, 855, 860, 865, 870,\n",
       "       875, 880, 885, 890, 895, 905, 910, 915, 920, 925, 930, 935, 940,\n",
       "       945, 950, 955, 960, 965, 970, 975, 980, 985, 990, 995], dtype=int64)"
      ]
     },
     "execution_count": 43,
     "metadata": {},
     "output_type": "execute_result"
    }
   ],
   "source": [
    "ColorsID = DFColors[\"grid_value\"].values\n",
    "ColorsID"
   ]
  },
  {
   "cell_type": "code",
   "execution_count": 44,
   "metadata": {},
   "outputs": [
    {
     "data": {
      "text/plain": [
       "[(0.8196078431372549, 1.0, 0.45098039215686275, 1.0),\n",
       " (0.13333333333333333, 0.4, 0.2, 1.0),\n",
       " (0.5137254901960784, 0.7803921568627451, 0.5843137254901961, 1.0),\n",
       " (0.4392156862745098, 0.6588235294117647, 0.0, 1.0),\n",
       " (0.8745098039215686, 0.7215686274509804, 0.9019607843137255, 1.0),\n",
       " (0.6745098039215687, 0.4, 0.9294117647058824, 1.0),\n",
       " (0.4392156862745098, 0.047058823529411764, 0.9490196078431372, 1.0),\n",
       " (0.7686274509803922, 0.7411764705882353, 0.592156862745098, 1.0),\n",
       " (0.5372549019607843, 0.4392156862745098, 0.26666666666666666, 1.0),\n",
       " (0.7686274509803922, 0.7411764705882353, 0.592156862745098, 1.0),\n",
       " (0.984313725490196, 0.7450980392156863, 0.7254901960784313, 1.0),\n",
       " (0.9686274509803922, 0.40784313725490196, 0.6313725490196078, 1.0),\n",
       " (0.6823529411764706, 0.00392156862745098, 0.49411764705882355, 1.0),\n",
       " (1.0, 1.0, 0.7450980392156863, 1.0),\n",
       " (0.9019607843137255, 0.9019607843137255, 0.0, 1.0),\n",
       " (1.0, 0.8274509803921568, 0.4980392156862745, 1.0),\n",
       " (1.0, 0.6666666666666666, 0.0, 1.0),\n",
       " (1.0, 0.8274509803921568, 0.4980392156862745, 1.0),\n",
       " (0.38823529411764707, 0.0, 0.0, 1.0),\n",
       " (0.6666666666666666, 0.0, 0.0, 1.0),\n",
       " (0.38823529411764707, 0.0, 0.0, 1.0),\n",
       " (1.0, 1.0, 1.0, 1.0),\n",
       " (0.5098039215686274, 0.5098039215686274, 0.5098039215686274, 1.0),\n",
       " (0.45098039215686275, 0.8745098039215686, 1.0, 1.0),\n",
       " (0.0, 0.0, 0.0, 1.0),\n",
       " (0.6509803921568628, 0.6509803921568628, 0.6509803921568628, 1.0),\n",
       " (0.8, 0.8, 0.8, 1.0)]"
      ]
     },
     "execution_count": 44,
     "metadata": {},
     "output_type": "execute_result"
    }
   ],
   "source": [
    "MColors = DFColors[[\" r\", \" g\", \" b\"]].values / 255.0\n",
    "MColors = [tuple(np.concatenate((i,[1.0]))) for i in MColors]\n",
    "MColors[:27]"
   ]
  },
  {
   "cell_type": "code",
   "execution_count": 45,
   "metadata": {},
   "outputs": [],
   "source": [
    "Colors = ListedColormap(MColors[:27])"
   ]
  },
  {
   "cell_type": "code",
   "execution_count": 61,
   "metadata": {},
   "outputs": [
    {
     "data": {
      "text/plain": [
       "<matplotlib.axes._subplots.AxesSubplot at 0x1c0f9c18518>"
      ]
     },
     "execution_count": 61,
     "metadata": {},
     "output_type": "execute_result"
    },
    {
     "data": {
      "image/png": "[encoded data removed]",
      "text/plain": [
       "<matplotlib.figure.Figure at 0x1c0f9b8bd30>"
      ]
     },
     "metadata": {},
     "output_type": "display_data"
    }
   ],
   "source": [
    "data = np.random.randint(0, 4, (3,3)) # Random [-1, 0, 1] data\n",
    "CellsColors = ListedColormap([(209/255.0,255/255.0,115/255.0, 1.0),    # C1\n",
    "                              (34/255.0,102/255.0,51/255.0, 1.0),      # C2\n",
    "                              (131/255.0,199/255.0,149/255.0,1.0),     # C3\n",
    "                              (112/255.0,168/255.0,0/255.0,1.0),       # C4      \n",
    "                              (223/255.0,184/255.0,230/255.0,1.0),]    # C5\n",
    "                            )    \n",
    "\n",
    "sns.heatmap(data, cmap=CellsColors, annot=True, cbar=False, linewidth=0.5, square=True)"
   ]
  },
  {
   "cell_type": "code",
   "execution_count": 62,
   "metadata": {},
   "outputs": [
    {
     "data": {
      "text/plain": [
       "<matplotlib.image.AxesImage at 0x1c0f9d847f0>"
      ]
     },
     "execution_count": 62,
     "metadata": {},
     "output_type": "execute_result"
    },
    {
     "data": {
      "image/png": "[encoded data removed]",
      "text/plain": [
       "<matplotlib.figure.Figure at 0x1c0f9b07358>"
      ]
     },
     "metadata": {},
     "output_type": "display_data"
    }
   ],
   "source": [
    "plt.matshow(data, cmap=CellsColors)"
   ]
  },
  {
   "cell_type": "code",
   "execution_count": 82,
   "metadata": {},
   "outputs": [
    {
     "name": "stdout",
     "output_type": "stream",
     "text": [
      "[[1 2 2]\n",
      " [1 3 3]\n",
      " [0 1 2]]\n"
     ]
    }
   ],
   "source": [
    "print(data)"
   ]
  },
  {
   "cell_type": "code",
   "execution_count": 146,
   "metadata": {},
   "outputs": [],
   "source": [
    "data = np.array([[9,1,0],[1,2,3],[5,4,6]])"
   ]
  },
  {
   "cell_type": "code",
   "execution_count": 103,
   "metadata": {},
   "outputs": [],
   "source": [
    "import matplotlib\n",
    "norm = matplotlib.colors.BoundaryNorm(np.arange(len(MColors[:27]))-0.5, len(MColors[:27]))"
   ]
  },
  {
   "cell_type": "code",
   "execution_count": 104,
   "metadata": {},
   "outputs": [
    {
     "data": {
      "text/plain": [
       "<matplotlib.axes._subplots.AxesSubplot at 0x1c0fbf990b8>"
      ]
     },
     "execution_count": 104,
     "metadata": {},
     "output_type": "execute_result"
    },
    {
     "data": {
      "image/png": "[encoded data removed]",
      "text/plain": [
       "<matplotlib.figure.Figure at 0x1c0fbb6e208>"
      ]
     },
     "metadata": {},
     "output_type": "display_data"
    }
   ],
   "source": [
    "sns.heatmap(data, cmap=Colors, annot=True, cbar=True, linewidth=0.5, norm=norm)"
   ]
  },
  {
   "cell_type": "code",
   "execution_count": 105,
   "metadata": {
    "code_folding": [
     0
    ],
    "collapsed": true
   },
   "outputs": [],
   "source": [
    "CustomColor = ListedColormap([(0.8196078431372549, 1.0, 0.45098039215686275, 1.0),\n",
    "                            (0.13333333333333333, 0.4, 0.2, 1.0),\n",
    "                            (0.5137254901960784, 0.7803921568627451, 0.5843137254901961, 1.0),\n",
    "                            (0.4392156862745098, 0.6588235294117647, 0.0, 1.0),\n",
    "                            (0.8745098039215686, 0.7215686274509804, 0.9019607843137255, 1.0),\n",
    "                            (0.6745098039215687, 0.4, 0.9294117647058824, 1.0),\n",
    "                            (0.4392156862745098, 0.047058823529411764, 0.9490196078431372, 1.0),\n",
    "                            (0.7686274509803922, 0.7411764705882353, 0.592156862745098, 1.0),\n",
    "                            (0.5372549019607843, 0.4392156862745098, 0.26666666666666666, 1.0),\n",
    "                            (0.7686274509803922, 0.7411764705882353, 0.592156862745098, 1.0),\n",
    "                            (0.984313725490196, 0.7450980392156863, 0.7254901960784313, 1.0),\n",
    "                            (0.9686274509803922, 0.40784313725490196, 0.6313725490196078, 1.0),\n",
    "                            (0.6823529411764706, 0.00392156862745098, 0.49411764705882355, 1.0),\n",
    "                            (1.0, 1.0, 0.7450980392156863, 1.0),\n",
    "                            (0.9019607843137255, 0.9019607843137255, 0.0, 1.0),\n",
    "                            (1.0, 0.8274509803921568, 0.4980392156862745, 1.0),\n",
    "                            (1.0, 0.6666666666666666, 0.0, 1.0),\n",
    "                            (1.0, 0.8274509803921568, 0.4980392156862745, 1.0),\n",
    "                            (0.38823529411764707, 0.0, 0.0, 1.0),\n",
    "                            (0.6666666666666666, 0.0, 0.0, 1.0),\n",
    "                            (0.38823529411764707, 0.0, 0.0, 1.0),\n",
    "                            (1.0, 1.0, 1.0, 1.0),\n",
    "                            (0.5098039215686274, 0.5098039215686274, 0.5098039215686274, 1.0),\n",
    "                            (0.45098039215686275, 0.8745098039215686, 1.0, 1.0),\n",
    "                            (0.0, 0.0, 0.0, 1.0),\n",
    "                            (0.6509803921568628, 0.6509803921568628, 0.6509803921568628, 1.0),\n",
    "                            (0.8, 0.8, 0.8, 1.0),\n",
    "                            (1.0, 0.8274509803921568, 0.4980392156862745, 1.0),\n",
    "                            (1.0, 0.8274509803921568, 0.4980392156862745, 1.0),\n",
    "                            (1.0, 0.8274509803921568, 0.4980392156862745, 1.0),\n",
    "                            (1.0, 0.8274509803921568, 0.4980392156862745, 1.0),\n",
    "                            (1.0, 0.8274509803921568, 0.4980392156862745, 1.0),\n",
    "                            (1.0, 0.8274509803921568, 0.4980392156862745, 1.0),\n",
    "                            (1.0, 0.8274509803921568, 0.4980392156862745, 1.0),\n",
    "                            (1.0, 0.8274509803921568, 0.4980392156862745, 1.0),\n",
    "                            (1.0, 0.8274509803921568, 0.4980392156862745, 1.0),\n",
    "                            (1.0, 0.8274509803921568, 0.4980392156862745, 1.0),\n",
    "                            (1.0, 0.8274509803921568, 0.4980392156862745, 1.0),\n",
    "                            (1.0, 0.8274509803921568, 0.4980392156862745, 1.0),\n",
    "                            (1.0, 0.8274509803921568, 0.4980392156862745, 1.0),\n",
    "                            (1.0, 0.8274509803921568, 0.4980392156862745, 1.0),\n",
    "                            (1.0, 0.8274509803921568, 0.4980392156862745, 1.0),\n",
    "                            (1.0, 0.8274509803921568, 0.4980392156862745, 1.0),\n",
    "                            (1.0, 0.8274509803921568, 0.4980392156862745, 1.0),\n",
    "                            (1.0, 0.8274509803921568, 0.4980392156862745, 1.0),\n",
    "                            (1.0, 0.8274509803921568, 0.4980392156862745, 1.0),\n",
    "                            (1.0, 0.6666666666666666, 0.0, 1.0),\n",
    "                            (1.0, 0.6666666666666666, 0.0, 1.0),\n",
    "                            (1.0, 0.6666666666666666, 0.0, 1.0),\n",
    "                            (1.0, 0.6666666666666666, 0.0, 1.0),\n",
    "                            (1.0, 0.6666666666666666, 0.0, 1.0),\n",
    "                            (1.0, 0.6666666666666666, 0.0, 1.0),\n",
    "                            (1.0, 0.6666666666666666, 0.0, 1.0),\n",
    "                            (1.0, 0.6666666666666666, 0.0, 1.0),\n",
    "                            (1.0, 0.6666666666666666, 0.0, 1.0),\n",
    "                            (1.0, 0.6666666666666666, 0.0, 1.0),\n",
    "                            (1.0, 0.6666666666666666, 0.0, 1.0),\n",
    "                            (1.0, 0.6666666666666666, 0.0, 1.0),\n",
    "                            (1.0, 0.6666666666666666, 0.0, 1.0),\n",
    "                            (1.0, 0.6666666666666666, 0.0, 1.0),\n",
    "                            (1.0, 0.6666666666666666, 0.0, 1.0),\n",
    "                            (1.0, 0.6666666666666666, 0.0, 1.0),\n",
    "                            (1.0, 0.6666666666666666, 0.0, 1.0),\n",
    "                            (1.0, 0.6666666666666666, 0.0, 1.0),\n",
    "                            (1.0, 0.6666666666666666, 0.0, 1.0),\n",
    "                            (1.0, 0.8274509803921568, 0.4980392156862745, 1.0),\n",
    "                            (1.0, 0.8274509803921568, 0.4980392156862745, 1.0),\n",
    "                            (1.0, 0.8274509803921568, 0.4980392156862745, 1.0),\n",
    "                            (1.0, 0.8274509803921568, 0.4980392156862745, 1.0),\n",
    "                            (1.0, 0.8274509803921568, 0.4980392156862745, 1.0),\n",
    "                            (1.0, 0.8274509803921568, 0.4980392156862745, 1.0),\n",
    "                            (1.0, 0.8274509803921568, 0.4980392156862745, 1.0),\n",
    "                            (1.0, 0.8274509803921568, 0.4980392156862745, 1.0),\n",
    "                            (1.0, 0.8274509803921568, 0.4980392156862745, 1.0),\n",
    "                            (1.0, 0.8274509803921568, 0.4980392156862745, 1.0),\n",
    "                            (1.0, 0.8274509803921568, 0.4980392156862745, 1.0),\n",
    "                            (1.0, 0.8274509803921568, 0.4980392156862745, 1.0),\n",
    "                            (1.0, 0.8274509803921568, 0.4980392156862745, 1.0),\n",
    "                            (1.0, 0.8274509803921568, 0.4980392156862745, 1.0),\n",
    "                            (1.0, 0.8274509803921568, 0.4980392156862745, 1.0),\n",
    "                            (1.0, 0.8274509803921568, 0.4980392156862745, 1.0),\n",
    "                            (1.0, 0.8274509803921568, 0.4980392156862745, 1.0),\n",
    "                            (1.0, 0.8274509803921568, 0.4980392156862745, 1.0),\n",
    "                            (1.0, 0.8274509803921568, 0.4980392156862745, 1.0),\n",
    "                            (0.38823529411764707, 0.0, 0.0, 1.0),\n",
    "                            (0.38823529411764707, 0.0, 0.0, 1.0),\n",
    "                            (0.38823529411764707, 0.0, 0.0, 1.0),\n",
    "                            (0.38823529411764707, 0.0, 0.0, 1.0),\n",
    "                            (0.38823529411764707, 0.0, 0.0, 1.0),\n",
    "                            (0.38823529411764707, 0.0, 0.0, 1.0),\n",
    "                            (0.38823529411764707, 0.0, 0.0, 1.0),\n",
    "                            (0.38823529411764707, 0.0, 0.0, 1.0),\n",
    "                            (0.38823529411764707, 0.0, 0.0, 1.0),\n",
    "                            (0.38823529411764707, 0.0, 0.0, 1.0),\n",
    "                            (0.38823529411764707, 0.0, 0.0, 1.0),\n",
    "                            (0.38823529411764707, 0.0, 0.0, 1.0),\n",
    "                            (0.38823529411764707, 0.0, 0.0, 1.0),\n",
    "                            (0.38823529411764707, 0.0, 0.0, 1.0),\n",
    "                            (0.38823529411764707, 0.0, 0.0, 1.0),\n",
    "                            (0.38823529411764707, 0.0, 0.0, 1.0),\n",
    "                            (0.38823529411764707, 0.0, 0.0, 1.0),\n",
    "                            (0.38823529411764707, 0.0, 0.0, 1.0),\n",
    "                            (0.38823529411764707, 0.0, 0.0, 1.0),\n",
    "                            (0.6666666666666666, 0.0, 0.0, 1.0),\n",
    "                            (0.6666666666666666, 0.0, 0.0, 1.0),\n",
    "                            (0.6666666666666666, 0.0, 0.0, 1.0),\n",
    "                            (0.6666666666666666, 0.0, 0.0, 1.0),\n",
    "                            (0.6666666666666666, 0.0, 0.0, 1.0),\n",
    "                            (0.6666666666666666, 0.0, 0.0, 1.0),\n",
    "                            (0.6666666666666666, 0.0, 0.0, 1.0),\n",
    "                            (0.6666666666666666, 0.0, 0.0, 1.0),\n",
    "                            (0.6666666666666666, 0.0, 0.0, 1.0),\n",
    "                            (0.6666666666666666, 0.0, 0.0, 1.0),\n",
    "                            (0.6666666666666666, 0.0, 0.0, 1.0),\n",
    "                            (0.6666666666666666, 0.0, 0.0, 1.0),\n",
    "                            (0.6666666666666666, 0.0, 0.0, 1.0),\n",
    "                            (0.6666666666666666, 0.0, 0.0, 1.0),\n",
    "                            (0.6666666666666666, 0.0, 0.0, 1.0),\n",
    "                            (0.6666666666666666, 0.0, 0.0, 1.0),\n",
    "                            (0.6666666666666666, 0.0, 0.0, 1.0),\n",
    "                            (0.6666666666666666, 0.0, 0.0, 1.0),\n",
    "                            (0.6666666666666666, 0.0, 0.0, 1.0),\n",
    "                            (0.38823529411764707, 0.0, 0.0, 1.0),\n",
    "                            (0.38823529411764707, 0.0, 0.0, 1.0),\n",
    "                            (0.38823529411764707, 0.0, 0.0, 1.0),\n",
    "                            (0.38823529411764707, 0.0, 0.0, 1.0),\n",
    "                            (0.38823529411764707, 0.0, 0.0, 1.0),\n",
    "                            (0.38823529411764707, 0.0, 0.0, 1.0),\n",
    "                            (0.38823529411764707, 0.0, 0.0, 1.0),\n",
    "                            (0.38823529411764707, 0.0, 0.0, 1.0),\n",
    "                            (0.38823529411764707, 0.0, 0.0, 1.0),\n",
    "                            (0.38823529411764707, 0.0, 0.0, 1.0),\n",
    "                            (0.38823529411764707, 0.0, 0.0, 1.0),\n",
    "                            (0.38823529411764707, 0.0, 0.0, 1.0),\n",
    "                            (0.38823529411764707, 0.0, 0.0, 1.0),\n",
    "                            (0.38823529411764707, 0.0, 0.0, 1.0),\n",
    "                            (0.38823529411764707, 0.0, 0.0, 1.0),\n",
    "                            (0.38823529411764707, 0.0, 0.0, 1.0),\n",
    "                            (0.38823529411764707, 0.0, 0.0, 1.0),\n",
    "                            (0.38823529411764707, 0.0, 0.0, 1.0),\n",
    "                            (0.38823529411764707, 0.0, 0.0, 1.0)])"
   ]
  },
  {
   "cell_type": "code",
   "execution_count": 147,
   "metadata": {},
   "outputs": [
    {
     "data": {
      "text/plain": [
       "<matplotlib.axes._subplots.AxesSubplot at 0x1c0feacb080>"
      ]
     },
     "execution_count": 147,
     "metadata": {},
     "output_type": "execute_result"
    },
    {
     "data": {
      "image/png": "[encoded data removed]",
      "text/plain": [
       "<matplotlib.figure.Figure at 0x1c0fe99d128>"
      ]
     },
     "metadata": {},
     "output_type": "display_data"
    }
   ],
   "source": [
    "norm2 = matplotlib.colors.BoundaryNorm(np.arange(8)-0.5, 7)\n",
    "sns.heatmap(data, cmap=CustomColor, annot=True, cbar=True, linewidth=0.5, norm=norm2)"
   ]
  },
  {
   "cell_type": "code",
   "execution_count": null,
   "metadata": {
    "collapsed": true
   },
   "outputs": [],
   "source": []
  },
  {
   "cell_type": "code",
   "execution_count": null,
   "metadata": {
    "collapsed": true
   },
   "outputs": [],
   "source": []
  },
  {
   "cell_type": "code",
   "execution_count": 22,
   "metadata": {},
   "outputs": [
    {
     "data": {
      "text/plain": [
       "<matplotlib.axes._subplots.AxesSubplot at 0x1c0f5f8b940>"
      ]
     },
     "execution_count": 22,
     "metadata": {},
     "output_type": "execute_result"
    },
    {
     "data": {
      "image/png": "[encoded data removed]",
      "text/plain": [
       "<matplotlib.figure.Figure at 0x1c0f746cfd0>"
      ]
     },
     "metadata": {},
     "output_type": "display_data"
    }
   ],
   "source": [
    "# Dictionary\n",
    "cdict = {}\n",
    "aux = 0\n",
    "for i in ColorsID:\n",
    "    cdict[i] = MColors[aux]\n",
    "    aux+=1\n",
    "cdict\n",
    "\n",
    "# Vals and keys\n",
    "ckeys, cvals = zip(*cdict.items())\n",
    "\n",
    "# Colormap\n",
    "my_cmap = ListedColormap(cvals)\n",
    "\n",
    "# Plot\n",
    "sns.heatmap(data, cmap=my_cmap, annot=True, \n",
    "            cbar=False, linewidth=0.5, \n",
    "            linecolor=\"w\", square=True)"
   ]
  },
  {
   "cell_type": "code",
   "execution_count": 23,
   "metadata": {},
   "outputs": [
    {
     "name": "stdout",
     "output_type": "stream",
     "text": [
      "4\n"
     ]
    },
    {
     "data": {
      "image/png": "[encoded data removed]",
      "text/plain": [
       "<matplotlib.figure.Figure at 0x1c0f74fe358>"
      ]
     },
     "metadata": {},
     "output_type": "display_data"
    }
   ],
   "source": [
    "from mpl_toolkits.mplot3d import Axes3D\n",
    "from matplotlib import cm\n",
    "import matplotlib.pyplot as plt\n",
    "import numpy as np\n",
    "\n",
    "fig = plt.figure()\n",
    "ax = fig.gca(projection='3d')\n",
    "\n",
    "# as plot_surface needs 2D arrays as input\n",
    "x = np.arange(4)\n",
    "y = np.arange(4)\n",
    "# we make a meshgrid from the x,y data\n",
    "X, Y = np.meshgrid(x, y)\n",
    "Z = np.sqrt(X**2 + Y**2)\n",
    "\n",
    "\n",
    "# data_value shall be represented by color\n",
    "data_value = np.random.rand(len(y), len(x))\n",
    "# map the data to rgba values from a colormap\n",
    "colors = cm.ScalarMappable(cmap = \"viridis\").to_rgba(data_value)\n",
    "print(len(colors))\n",
    "\n",
    "# plot_surface with points X,Y,Z and data_value as colors\n",
    "surf = ax.plot_surface(X, Y, Z, rstride=1, cstride=1, facecolors=colors,\n",
    "                       linewidth=1.0, antialiased=True)\n",
    "\n",
    "plt.show()\n"
   ]
  },
  {
   "cell_type": "code",
   "execution_count": null,
   "metadata": {},
   "outputs": [],
   "source": [
    "x"
   ]
  },
  {
   "cell_type": "code",
   "execution_count": null,
   "metadata": {},
   "outputs": [],
   "source": [
    "X"
   ]
  },
  {
   "cell_type": "code",
   "execution_count": null,
   "metadata": {},
   "outputs": [],
   "source": [
    "y"
   ]
  },
  {
   "cell_type": "code",
   "execution_count": null,
   "metadata": {},
   "outputs": [],
   "source": [
    "Y"
   ]
  },
  {
   "cell_type": "code",
   "execution_count": null,
   "metadata": {},
   "outputs": [],
   "source": [
    "Z"
   ]
  }
 ],
 "metadata": {
  "kernelspec": {
   "display_name": "Python 3",
   "language": "python",
   "name": "python3"
  },
  "language_info": {
   "codemirror_mode": {
    "name": "ipython",
    "version": 3
   },
   "file_extension": ".py",
   "mimetype": "text/x-python",
   "name": "python",
   "nbconvert_exporter": "python",
   "pygments_lexer": "ipython3",
   "version": "3.6.2"
  }
 },
 "nbformat": 4,
 "nbformat_minor": 2
}
