{
 "cells": [
  {
   "cell_type": "code",
   "execution_count": 1,
   "metadata": {
    "collapsed": true
   },
   "outputs": [],
   "source": [
    "import pandas as pd\n",
    "import numpy as np\n",
    "import glob\n",
    "import os"
   ]
  },
  {
   "cell_type": "code",
   "execution_count": 21,
   "metadata": {},
   "outputs": [
    {
     "name": "stdout",
     "output_type": "stream",
     "text": [
      "C:\\Users\\Lenovo\\Desktop\\Papers2019\\Cell2Fire\\Cell2Fire_Package_Sim\\Cell2Fire\n"
     ]
    },
    {
     "data": {
      "text/plain": [
       "0"
      ]
     },
     "execution_count": 21,
     "metadata": {},
     "output_type": "execute_result"
    }
   ],
   "source": [
    "print(os.getcwd())\n",
    "OutFolder = \"C:/Users/Lenovo/Desktop/Papers2019/Cell2Fire/results/9CellsHomC1_1Y/\"\n",
    "Grids = glob.glob(outFolder + 'Grids/')\n",
    "len(Grids)\n",
    "\n",
    "\n"
   ]
  },
  {
   "cell_type": "code",
   "execution_count": 25,
   "metadata": {},
   "outputs": [
    {
     "name": "stdout",
     "output_type": "stream",
     "text": [
      "Max number of grids: 9\n"
     ]
    }
   ],
   "source": [
    "maxStep = 0\n",
    "for i in range(10):\n",
    "    GridPath = os.path.join(OutFolder, \"Grids\", \"Grids\"+str(i+1))\n",
    "    GridFiles = os.listdir(GridPath)\n",
    "    if len(GridFiles) > maxStep:\n",
    "        maxStep = len(GridFiles)\n",
    "        \n",
    "print(\"Max number of grids:\", maxStep)"
   ]
  },
  {
   "cell_type": "code",
   "execution_count": 29,
   "metadata": {},
   "outputs": [],
   "source": [
    "from shutil import copyfile, copy2\n",
    "\n",
    "for i in range(10):\n",
    "    GridPath = os.path.join(OutFolder, \"Grids\", \"Grids\"+str(i+1))\n",
    "    GridFiles = os.listdir(GridPath)\n",
    "    if len(GridFiles) < maxStep:\n",
    "        for j in range(len(GridFiles), maxStep + 1):\n",
    "            file = 'ForestGrid{:02d}.txt'.format(j)\n",
    "            copy2(os.path.join(GridPath, GridFiles[-1]),\n",
    "                  os.path.join(GridPath, file))\n",
    "        \n",
    "        "
   ]
  },
  {
   "cell_type": "code",
   "execution_count": 31,
   "metadata": {},
   "outputs": [
    {
     "name": "stdout",
     "output_type": "stream",
     "text": [
      "False True\n"
     ]
    }
   ],
   "source": [
    "hola=False\n",
    "print(hola, not hola)"
   ]
  }
 ],
 "metadata": {
  "kernelspec": {
   "display_name": "Python 3",
   "language": "python",
   "name": "python3"
  },
  "language_info": {
   "codemirror_mode": {
    "name": "ipython",
    "version": 3
   },
   "file_extension": ".py",
   "mimetype": "text/x-python",
   "name": "python",
   "nbconvert_exporter": "python",
   "pygments_lexer": "ipython3",
   "version": "3.6.2"
  }
 },
 "nbformat": 4,
 "nbformat_minor": 2
}
