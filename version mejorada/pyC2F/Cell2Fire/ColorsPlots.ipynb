{
 "cells": [
  {
   "cell_type": "code",
   "execution_count": 16,
   "metadata": {},
   "outputs": [
    {
     "data": {
      "image/png": "[encoded data removed]",
      "text/plain": [
       "<matplotlib.figure.Figure at 0x2d18f593320>"
      ]
     },
     "metadata": {},
     "output_type": "display_data"
    }
   ],
   "source": [
    "import numpy as np\n",
    "import matplotlib.pyplot as plt\n",
    "import matplotlib.colors\n",
    "\n",
    "a =np.array([[156, 138, 156],\n",
    "             [130, 137, 156],\n",
    "             [138, 138, 1300],\n",
    "             [137, 137, 137]])\n",
    "\n",
    "ca = np.array([[156,200,200,200],\n",
    "               [138,170,255,245],\n",
    "               [137,208,130,40],\n",
    "               [1300,63,165,76]])\n",
    "\n",
    "u, ind = np.unique(a, return_inverse=True)\n",
    "b = ind.reshape((a.shape))\n",
    "\n",
    "colors = ca[ca[:,0].argsort()][:,1:]/255.\n",
    "cmap = matplotlib.colors.ListedColormap(colors)\n",
    "norm = matplotlib.colors.BoundaryNorm(np.arange(len(ca)+1)-0.5, len(ca))\n",
    "\n",
    "plt.imshow(b, cmap=cmap, norm=norm)\n",
    "\n",
    "cb = plt.colorbar(ticks=np.arange(len(ca)))\n",
    "cb.ax.set_yticklabels(np.unique(ca[:,0]))\n",
    "\n",
    "plt.show()"
   ]
  },
  {
   "cell_type": "code",
   "execution_count": 21,
   "metadata": {},
   "outputs": [
    {
     "data": {
      "text/plain": [
       "<matplotlib.image.AxesImage at 0x2d1903a1cf8>"
      ]
     },
     "execution_count": 21,
     "metadata": {},
     "output_type": "execute_result"
    },
    {
     "data": {
      "image/png": "[encoded data removed]",
      "text/plain": [
       "<matplotlib.figure.Figure at 0x2d18f53f160>"
      ]
     },
     "metadata": {},
     "output_type": "display_data"
    }
   ],
   "source": [
    "%matplotlib inline\n",
    "plt.matshow(b)"
   ]
  },
  {
   "cell_type": "code",
   "execution_count": 2,
   "metadata": {},
   "outputs": [
    {
     "name": "stdout",
     "output_type": "stream",
     "text": [
      "[ 137  138  156 1300]\n"
     ]
    }
   ],
   "source": [
    "print(u)"
   ]
  },
  {
   "cell_type": "code",
   "execution_count": 9,
   "metadata": {},
   "outputs": [
    {
     "name": "stdout",
     "output_type": "stream",
     "text": [
      "[2 1 2 3 0 2 1 1 3 0 0 0]\n"
     ]
    }
   ],
   "source": [
    "print(ind)"
   ]
  },
  {
   "cell_type": "code",
   "execution_count": 10,
   "metadata": {},
   "outputs": [
    {
     "name": "stdout",
     "output_type": "stream",
     "text": [
      "[[ 156  138  156]\n",
      " [1300  137  156]\n",
      " [ 138  138 1300]\n",
      " [ 137  137  137]]\n"
     ]
    }
   ],
   "source": [
    "print(a)"
   ]
  },
  {
   "cell_type": "code",
   "execution_count": 6,
   "metadata": {},
   "outputs": [
    {
     "name": "stdout",
     "output_type": "stream",
     "text": [
      "[[2 1 2]\n",
      " [3 0 2]\n",
      " [1 1 3]\n",
      " [0 0 0]]\n"
     ]
    }
   ],
   "source": [
    "print(b)"
   ]
  },
  {
   "cell_type": "code",
   "execution_count": 11,
   "metadata": {},
   "outputs": [
    {
     "name": "stdout",
     "output_type": "stream",
     "text": [
      "[[0.81568627 0.50980392 0.15686275]\n",
      " [0.66666667 1.         0.96078431]\n",
      " [0.78431373 0.78431373 0.78431373]\n",
      " [0.24705882 0.64705882 0.29803922]]\n"
     ]
    }
   ],
   "source": [
    "print(colors)"
   ]
  },
  {
   "cell_type": "code",
   "execution_count": 12,
   "metadata": {},
   "outputs": [
    {
     "name": "stdout",
     "output_type": "stream",
     "text": [
      "<matplotlib.colors.BoundaryNorm object at 0x000002D18D4F46A0>\n"
     ]
    }
   ],
   "source": [
    "print(norm)"
   ]
  }
 ],
 "metadata": {
  "kernelspec": {
   "display_name": "Python 3",
   "language": "python",
   "name": "python3"
  },
  "language_info": {
   "codemirror_mode": {
    "name": "ipython",
    "version": 3
   },
   "file_extension": ".py",
   "mimetype": "text/x-python",
   "name": "python",
   "nbconvert_exporter": "python",
   "pygments_lexer": "ipython3",
   "version": "3.6.2"
  }
 },
 "nbformat": 4,
 "nbformat_minor": 2
}
